{
 "cells": [
  {
   "cell_type": "code",
   "execution_count": 1,
   "metadata": {
    "id": "_uM0GSg8-O3y"
   },
   "outputs": [],
   "source": [
    "import pandas as pd\n",
    "import numpy as np\n",
    "import numpy\n",
    "import peakutils\n",
    "from peakutils.plot import plot as pplot\n",
    "import matplotlib.pyplot as plt\n",
    "from matplotlib import pyplot"
   ]
  },
  {
   "cell_type": "code",
   "execution_count": 2,
   "metadata": {
    "id": "q3J1lens-O4D"
   },
   "outputs": [],
   "source": [
    "from sklearn.ensemble import AdaBoostClassifier\n",
    "from sklearn import datasets\n",
    "from sklearn.model_selection import train_test_split\n",
    "from sklearn import metrics\n",
    "import warnings\n",
    "warnings.filterwarnings('ignore')"
   ]
  },
  {
   "cell_type": "code",
   "execution_count": 3,
   "metadata": {
    "id": "JZQFO7SG-O4G"
   },
   "outputs": [],
   "source": [
    "def clean_dataset(df):\n",
    "    df.dropna(inplace=True)\n",
    "    indices_to_keep = ~df.isin([np.nan, np.inf, -np.inf]).any(1)\n",
    "    return df[indices_to_keep]"
   ]
  },
  {
   "cell_type": "code",
   "execution_count": 4,
   "metadata": {},
   "outputs": [],
   "source": [
    "train_dataset = pd.read_csv('/home/kriz/Data/csv_result-1331-all-combined.csv')\n",
    "train_dataset = clean_dataset(train_dataset)\n",
    "train_dataset.dropna()\n",
    "x = train_dataset.iloc[:,1:32]\n",
    "y = train_dataset.iloc[:,63]\n",
    "X_train, X_test, y_train, y_test = train_test_split(x, y, train_size=0.9, random_state=1)"
   ]
  },
  {
   "cell_type": "code",
   "execution_count": 5,
   "metadata": {
    "id": "zWihwcyj-O4I"
   },
   "outputs": [],
   "source": [
    "clf = AdaBoostClassifier(n_estimators = 100, learning_rate = 1)\n",
    "amodel = clf.fit(X_train, y_train)"
   ]
  },
  {
   "cell_type": "code",
   "execution_count": 6,
   "metadata": {
    "id": "9f_4Dk92-O4M"
   },
   "outputs": [],
   "source": [
    "y_pred = amodel.predict(X_test)"
   ]
  },
  {
   "cell_type": "code",
   "execution_count": 7,
   "metadata": {
    "id": "8cSuN_n6Bqwl"
   },
   "outputs": [],
   "source": [
    "from sklearn.metrics import classification_report\n"
   ]
  },
  {
   "cell_type": "code",
   "execution_count": 14,
   "metadata": {
    "colab": {
     "base_uri": "https://localhost:8080/"
    },
    "id": "M9cahqGa-O4N",
    "outputId": "98e6d18f-74be-4b41-ab0d-4b050da58e26"
   },
   "outputs": [
    {
     "name": "stdout",
     "output_type": "stream",
     "text": [
      "              precision    recall  f1-score   support\n",
      "\n",
      "           c       0.89      0.92      0.90        72\n",
      "           n       0.90      0.87      0.89        62\n",
      "\n",
      "    accuracy                           0.90       134\n",
      "   macro avg       0.90      0.89      0.89       134\n",
      "weighted avg       0.90      0.90      0.90       134\n",
      "\n"
     ]
    }
   ],
   "source": [
    "report1 = classification_report( y_test, y_pred )\n",
    "print(report1)"
   ]
  },
  {
   "cell_type": "code",
   "execution_count": 9,
   "metadata": {
    "id": "6NUqzDCnBrif"
   },
   "outputs": [
    {
     "name": "stdout",
     "output_type": "stream",
     "text": [
      "       No.       Time     Delta  Length\n",
      "0        1   0.000000  0.000000      74\n",
      "1        2   0.000017  0.000017      66\n",
      "2        3   0.000054  0.000036      74\n",
      "3        4   0.000072  0.000018      74\n",
      "4        5   0.000075  0.000004      66\n",
      "...    ...        ...       ...     ...\n",
      "1334  1335  80.338455  0.000100      74\n",
      "1335  1336  80.339024  0.000569     220\n",
      "1336  1337  80.339112  0.000087      74\n",
      "1337  1338  80.339876  0.000764     220\n",
      "1338  1339  80.339968  0.000092      74\n",
      "\n",
      "[1339 rows x 4 columns]\n"
     ]
    }
   ],
   "source": [
    "packets = pd.read_csv(r'/home/kriz/Data/test.csv', usecols = ['No.','Time','Delta','Length'])\n",
    "print(packets)"
   ]
  },
  {
   "cell_type": "code",
   "execution_count": 10,
   "metadata": {},
   "outputs": [],
   "source": [
    "win_index = []\n",
    "d = []\n",
    "t = []\n",
    "for i in packets['Time']:\n",
    "    t.append(float(i))\n",
    "    \n",
    "for i in packets['Delta']:\n",
    "    d.append(float(i))\n",
    "d = np.array(d)\n",
    "t = np.array(t)\n",
    "indexes = peakutils.indexes(d, thres=0.50, min_dist=1000)\n",
    "dval = d[indexes]\n",
    "tval = t[indexes]\n",
    "diff= [j-i for i, j in zip(indexes[:-1], indexes[1:])]\n",
    "for i in range(len(diff)):\n",
    "    if dval[i]>=0.045 and diff[i]>=800:\n",
    "        win_index.append(indexes[i+1])\n",
    "win11=int((win_index[0]+win_index[0])*0.285)\n",
    "win21=int((win_index[0]+win_index[0])*0.53)\n",
    "win31=int((win_index[0]+win_index[0])*0.52)\n",
    "win41=int((win_index[0]+win_index[0])*0.5)\n",
    "win51=int((win_index[0]+win_index[0])*0.5)\n",
    "win61=int((win_index[0]+win_index[0])*0.5)\n",
    "win71=int((win_index[0]+win_index[0])*0.5)\n",
    "win81=int((win_index[0]+win_index[0])*0.5)\n",
    "win91=int((win_index[0]+win_index[0])*0.5)\n",
    "win101=int((win_index[0]+win_index[0])*0.5)\n",
    "win111=int((win_index[0]-win_index[0])*0.05)\n",
    "win121=int((win_index[0]-win_index[0])*1.5)\n",
    "ind11=win11-300\n",
    "ind12=win11-150\n",
    "ind13=win11\n",
    "owd11=[]\n",
    "owd12=[]\n",
    "owd13=[]\n",
    "for nn in range(len(d)):\n",
    "    if nn>=ind11 and nn<ind12:\n",
    "        owd11.append(d[nn])\n",
    "    elif nn>=ind12 and nn<ind13:\n",
    "        owd12.append(d[nn])\n",
    "    elif nn>=ind13 and nn<ind13+150:\n",
    "        owd13.append(d[nn])\n",
    "a1 = numpy.mean(owd13)/numpy.mean(owd11)\n",
    "a2 = numpy.mean(owd13)/numpy.min(owd11)\n",
    "a3 = numpy.mean(owd13)/numpy.max(owd11)\n",
    "a4 = numpy.min(owd13)/numpy.mean(owd11)\n",
    "a5 = numpy.min(owd13)/numpy.min(owd11)\n",
    "a6 = numpy.min(owd13)/numpy.max(owd11)\n",
    "a7 = numpy.max(owd13)/numpy.mean(owd11)\n",
    "a8 = numpy.max(owd13)/numpy.min(owd11)\n",
    "a9 = numpy.max(owd13)/numpy.max(owd11)\n",
    "\"\"\"next take the Window3/Window2\"\"\"\n",
    "a10 = numpy.mean(owd13)/numpy.mean(owd12)\n",
    "a11 = numpy.mean(owd13)/numpy.min(owd12)\n",
    "a12 = numpy.mean(owd13)/numpy.max(owd12)\n",
    "a13 = numpy.min(owd13)/numpy.mean(owd12)\n",
    "a14 = numpy.min(owd13)/numpy.min(owd12)\n",
    "a15 = numpy.min(owd13)/numpy.max(owd12)\n",
    "a16 = numpy.max(owd13)/numpy.mean(owd12)\n",
    "a17 = numpy.max(owd13)/numpy.min(owd12)\n",
    "a18 = numpy.max(owd13)/numpy.max(owd12)\n",
    "\"\"\" min/max window 3\"\"\"\n",
    "a19 = numpy.min(owd13)/numpy.max(owd13)\n",
    "\"\"\"standard dev values\"\"\"\n",
    "a20 = numpy.std(owd13)/numpy.std(owd11)\n",
    "a21 = numpy.std(owd13)/numpy.std(owd12)\n",
    "a22 = numpy.std(owd11)/numpy.std(owd12)\n",
    "\"\"\"next window1 / window2\"\"\"\n",
    "a23 = numpy.mean(owd11)/numpy.mean(owd12)\n",
    "a24 = numpy.mean(owd11)/numpy.min(owd12)\n",
    "a25 = numpy.mean(owd11)/numpy.max(owd12)\n",
    "a26 = numpy.min(owd11)/numpy.mean(owd12)\n",
    "a27 = numpy.min(owd11)/numpy.min(owd12)\n",
    "a28 = numpy.min(owd11)/numpy.max(owd12)\n",
    "a29 = numpy.max(owd11)/numpy.mean(owd12)\n",
    "a30 = numpy.max(owd11)/numpy.min(owd12)\n",
    "a31 = numpy.max(owd11)/numpy.max(owd12)"
   ]
  },
  {
   "cell_type": "code",
   "execution_count": 11,
   "metadata": {},
   "outputs": [],
   "source": [
    "data = [[a1,a2,a3,a4,a5,a6,a7,a8,a9,a10,a11,a12,a13,a14,a15,a16,a17,a18,a19,a20,a21,a22,a23,a24,a25,a26,a27,a28,a29,a30,a31]]\n",
    "df = pd.DataFrame(data)"
   ]
  },
  {
   "cell_type": "code",
   "execution_count": 12,
   "metadata": {},
   "outputs": [],
   "source": [
    "p = amodel.predict(df)"
   ]
  },
  {
   "cell_type": "code",
   "execution_count": 15,
   "metadata": {},
   "outputs": [
    {
     "name": "stdout",
     "output_type": "stream",
     "text": [
      "['c']\n"
     ]
    }
   ],
   "source": [
    "print(p)"
   ]
  },
  {
   "cell_type": "code",
   "execution_count": 15,
   "metadata": {},
   "outputs": [],
   "source": []
  }
 ],
 "metadata": {
  "colab": {
   "name": "test.ipynb",
   "provenance": []
  },
  "kernelspec": {
   "display_name": "Python 3",
   "language": "python",
   "name": "python3"
  },
  "language_info": {
   "codemirror_mode": {
    "name": "ipython",
    "version": 3
   },
   "file_extension": ".py",
   "mimetype": "text/x-python",
   "name": "python",
   "nbconvert_exporter": "python",
   "pygments_lexer": "ipython3",
   "version": "3.8.5"
  }
 },
 "nbformat": 4,
 "nbformat_minor": 1
}
